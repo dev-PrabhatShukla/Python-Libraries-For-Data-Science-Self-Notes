{
  "nbformat": 4,
  "nbformat_minor": 0,
  "metadata": {
    "colab": {
      "name": "Self Assignment - Introduction to Pandas.ipynb",
      "provenance": [],
      "collapsed_sections": [],
      "include_colab_link": true
    },
    "kernelspec": {
      "name": "python3",
      "display_name": "Python 3"
    }
  },
  "cells": [
    {
      "cell_type": "markdown",
      "metadata": {
        "id": "view-in-github",
        "colab_type": "text"
      },
      "source": [
        "<a href=\"https://colab.research.google.com/github/dev-PrabhatShukla/Python-Libraries-For-Data-Science-Self-Notes/blob/main/Self_Assignment_Introduction_to_Pandas.ipynb\" target=\"_parent\"><img src=\"https://colab.research.google.com/assets/colab-badge.svg\" alt=\"Open In Colab\"/></a>"
      ]
    },
    {
      "cell_type": "markdown",
      "metadata": {
        "id": "MKXTc2Tas23T"
      },
      "source": [
        "# <u> Use only those concepts which have been taught till now </u>"
      ]
    },
    {
      "cell_type": "code",
      "metadata": {
        "id": "0V3Xtuh9siNn"
      },
      "source": [
        "import numpy as np\n",
        "import pandas as pd"
      ],
      "execution_count": 18,
      "outputs": []
    },
    {
      "cell_type": "markdown",
      "metadata": {
        "id": "Ase3qjp9cJUC"
      },
      "source": [
        "# <u>**Problem 1**</u>\n",
        "\n",
        "### You are given a list of urls. You need to extract the domain name from the urls in another list. Also you need to extract the ending string which the url ends with. \n",
        "\n",
        "### For example, https://www.example.com/market.php -- In this example, domain name is <code>www.example.com</code> and the ending string is <code>php</code>\n",
        "\n"
      ]
    },
    {
      "cell_type": "code",
      "metadata": {
        "id": "xj0SaK7smcPu"
      },
      "source": [
        "# List of urls\n",
        "url_list = ['https://blog.hubspot.com/marketing/parts-url',\n",
        "            'https://www.pracoderma.com/enrollments',\n",
        "            'https://pandas.pydata.org/pandas-docs/stable/reference/api/pandas.DataFrame.rename.html',\n",
        "            'https://www.programiz.com/python-programming/list']"
      ],
      "execution_count": 22,
      "outputs": []
    },
    {
      "cell_type": "code",
      "metadata": {
        "id": "N1hhYCZw3V1c",
        "colab": {
          "base_uri": "https://localhost:8080/"
        },
        "outputId": "f044e9d9-2d4a-49d4-c64c-6a140ca8e0f2"
      },
      "source": [
        "# Extract the domains and the ending string. Hint : use the split method for a string\n",
        "\n",
        "domain_list = [line.split('/')[2] for line in url_list]\n",
        "print(domain_list)\n",
        "\n",
        "\n",
        "print(\"------------------------------------------------------------------------------------\")\n",
        "\n",
        "ending_string_list = [end_list.split('/')[-1].split('.')[-1] for end_list in url_list]\n",
        "print(ending_string_list)"
      ],
      "execution_count": 23,
      "outputs": [
        {
          "output_type": "stream",
          "name": "stdout",
          "text": [
            "['blog.hubspot.com', 'www.pracoderma.com', 'pandas.pydata.org', 'www.programiz.com']\n",
            "------------------------------------------------------------------------------------\n",
            "['parts-url', 'enrollments', 'html', 'list']\n"
          ]
        }
      ]
    },
    {
      "cell_type": "markdown",
      "metadata": {
        "id": "EVgY54DrvLEF"
      },
      "source": [
        "## Next create a pandas dataframe with the above three lists."
      ]
    },
    {
      "cell_type": "code",
      "metadata": {
        "id": "2osXcjvpu6Uz",
        "colab": {
          "base_uri": "https://localhost:8080/",
          "height": 172
        },
        "outputId": "57600be0-259a-47dd-bdc9-c7a895b5c026"
      },
      "source": [
        "# Your code here. Hint : zip the three lists\n",
        "zip_list_in_tuple = list(zip(url_list, domain_list, ending_string_list))\n",
        "our_dataframe = pd.DataFrame(zip_list_in_tuple, columns=['Urls', 'Domains', 'Ending Strings'])\n",
        "our_dataframe\n",
        "\n"
      ],
      "execution_count": 24,
      "outputs": [
        {
          "output_type": "execute_result",
          "data": {
            "text/html": [
              "<div>\n",
              "<style scoped>\n",
              "    .dataframe tbody tr th:only-of-type {\n",
              "        vertical-align: middle;\n",
              "    }\n",
              "\n",
              "    .dataframe tbody tr th {\n",
              "        vertical-align: top;\n",
              "    }\n",
              "\n",
              "    .dataframe thead th {\n",
              "        text-align: right;\n",
              "    }\n",
              "</style>\n",
              "<table border=\"1\" class=\"dataframe\">\n",
              "  <thead>\n",
              "    <tr style=\"text-align: right;\">\n",
              "      <th></th>\n",
              "      <th>Urls</th>\n",
              "      <th>Domains</th>\n",
              "      <th>Ending Strings</th>\n",
              "    </tr>\n",
              "  </thead>\n",
              "  <tbody>\n",
              "    <tr>\n",
              "      <th>0</th>\n",
              "      <td>https://blog.hubspot.com/marketing/parts-url</td>\n",
              "      <td>blog.hubspot.com</td>\n",
              "      <td>parts-url</td>\n",
              "    </tr>\n",
              "    <tr>\n",
              "      <th>1</th>\n",
              "      <td>https://www.pracoderma.com/enrollments</td>\n",
              "      <td>www.pracoderma.com</td>\n",
              "      <td>enrollments</td>\n",
              "    </tr>\n",
              "    <tr>\n",
              "      <th>2</th>\n",
              "      <td>https://pandas.pydata.org/pandas-docs/stable/r...</td>\n",
              "      <td>pandas.pydata.org</td>\n",
              "      <td>html</td>\n",
              "    </tr>\n",
              "    <tr>\n",
              "      <th>3</th>\n",
              "      <td>https://www.programiz.com/python-programming/list</td>\n",
              "      <td>www.programiz.com</td>\n",
              "      <td>list</td>\n",
              "    </tr>\n",
              "  </tbody>\n",
              "</table>\n",
              "</div>"
            ],
            "text/plain": [
              "                                                Urls  ... Ending Strings\n",
              "0       https://blog.hubspot.com/marketing/parts-url  ...      parts-url\n",
              "1             https://www.pracoderma.com/enrollments  ...    enrollments\n",
              "2  https://pandas.pydata.org/pandas-docs/stable/r...  ...           html\n",
              "3  https://www.programiz.com/python-programming/list  ...           list\n",
              "\n",
              "[4 rows x 3 columns]"
            ]
          },
          "metadata": {},
          "execution_count": 24
        }
      ]
    }
  ]
}